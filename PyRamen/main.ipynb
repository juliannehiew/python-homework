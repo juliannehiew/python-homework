# Import the necessary libraries for reading csv files

import os
import csv


# Set the path for the csv file

csvpath = os.path.join("..", "menu_data.csv", "sales_data.csv")


# Create new lists to store data for menu and sales

menu = []
sales = []

