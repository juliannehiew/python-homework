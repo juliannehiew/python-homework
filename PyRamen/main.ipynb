# @TODO: Import the pathlib and csv library

from pathlib import Path
import csv


# @TODO: Set the file path

csvpath = Path("..", "menu_data.csv", "sales_data.csv")


# Initialize list of menu
menu = []



# @TODO: Open the csv file as an object
with open(csvpath, 'r') as csvfile:

    # @TODO:
    # Pass in the csv file to the csv.reader() function
    # (with ',' as the delmiter/separator) and return the csvreader object
    csvreader = csv.reader(csvfile, delimiter=',')
    
    # @TODO: Read the header row first (skip this step if there is no header)
    csv_header = next(csvreader)

    # @TODO: Print the header
    print(csv_header)

