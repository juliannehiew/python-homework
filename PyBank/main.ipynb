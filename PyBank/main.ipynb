



# @TODO: Initialize the metric variables

count = 0
total = 0
average = 0
minimum = 0
maximum = 0


# @TODO: Initialize lists to hold profitable and unprofitable day profits/losses

profitable_days = []
unprofitable_days = []


# List of budget profits/losses

budget_pnl = [ 867884, 984655, 322013, -69417, 310503, 522857, 1033096, 604885, -216386, 477532, 893810, -80353, 779806, -335203, 697845, 793163, 485070, 584122, 62729, 668179, 899906, 834719, 132003, 309978, -755566, 1170593, 252788, 1151518, 817256, 570757, 506702, -1022534, 475062, 779976, 144175, 542494, 359333, 321469, 67780, 471435, 565603, 872480, 789480, 999942, -1196225, 268997, -687986, 1150461, 682458, 617856, 824098, 581943, 132864, 448062, 689161, 800701, 1166643, 947333, 578668, 988505, 1139715, 1029471, 687533, -524626, 158620, 87795, 423389, 840723, 568529, 332067, 989499, 778237, 650000, -1100387, -174946, 757143, 445709, 712961, -1163797, 569899, 768450, 102685, 795914, 60988,138230, 671099 ]


# @TODO: Iterate over each element of the list

for day_pnl in budget_pnl:

    
    # Cumulatively sum up the total profits/losses and count of trading days
    
    total += day_pnl
    count += 1

    
    # Logic to determine minimum and maximum values
    
    if minimum == 0:
        minimum = day_pnl
    elif day_pnl < minimum:
        minimum = day_pnl
    elif day_pnl > maximum:
        maximum = day_pnl

        
    # Logic to determine profitable vs. unprofitable days
    
    if day_pnl > 0:
        profitable_days.append(day_pnl)
    elif day_pnl <= 0:
        unprofitable_days.append(day_pnl)
        
    
    # @TODO: Calculate the average

    average = round(total / count, 2)
    
    
    # @TODO: Calculate count metrics

    profitable_count = len(profitable_days)
    unprofitable_count = len(unprofitable_days)
    
    
    # @TODO: Print out the summary statistics

    print("---------Financial Analysis----------")
    print(f"Total Months: {count}")
    print(f"Total Profits/Losses: {total}")
    print(f"Average Change: {average}")
    print(f"Greatest Increase: {maximum}")
    print(f"Greatest Decrease: {minimum}")

   
